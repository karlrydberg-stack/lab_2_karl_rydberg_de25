{
 "cells": [
  {
   "cell_type": "code",
   "execution_count": 5,
   "id": "777c41c8",
   "metadata": {},
   "outputs": [
    {
     "name": "stdout",
     "output_type": "stream",
     "text": [
      "True\n",
      "False\n",
      "Coordinates must be int or float\n",
      "True\n",
      "Height must be an integer or float\n",
      "True\n"
     ]
    }
   ],
   "source": [
    "from base_class import BaseClassShapes\n",
    "from circle import CircleObject\n",
    "from rectangle import RectangleObject \n",
    "circle1 = CircleObject(x=0, y=0, radius=1)  # unit circle \n",
    "circle2 = CircleObject(x=1, y=1, radius=1) \n",
    "rectangle = RectangleObject(x=0, y=0, width=1, height=1) \n",
    "print(circle1 == circle2)  # True \n",
    "print(circle2 == rectangle)  # False \n",
    "circle1.translate(5, 3) # moves its center 5 points in x and 3 points in y\n",
    "try:  \n",
    "    circle1.translate(\"THREE\", 5)  # raise TypeError with an appropriate message \n",
    "except TypeError as err:\n",
    "    print(err)\n",
    "circle3 = CircleObject(radius=3) # a circle with center 0,0 with radius 3 \n",
    "print(circle3 >= circle1) # True\n",
    "try: \n",
    "    rectangle2 = RectangleObject(width=3, height=\"5\") # raise TypeError\n",
    "except TypeError as err:\n",
    "    print(err)\n",
    "rectangle1 = RectangleObject(3.14, 1, 1, 1)\n",
    "print(rectangle1 == circle1) # True"
   ]
  }
 ],
 "metadata": {
  "kernelspec": {
   "display_name": "lab_2_karl_rydberg_de25",
   "language": "python",
   "name": "python3"
  },
  "language_info": {
   "codemirror_mode": {
    "name": "ipython",
    "version": 3
   },
   "file_extension": ".py",
   "mimetype": "text/x-python",
   "name": "python",
   "nbconvert_exporter": "python",
   "pygments_lexer": "ipython3",
   "version": "3.12.8"
  }
 },
 "nbformat": 4,
 "nbformat_minor": 5
}
